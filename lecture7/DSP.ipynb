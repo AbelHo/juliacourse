{
 "cells": [
  {
   "cell_type": "code",
   "execution_count": null,
   "metadata": {},
   "outputs": [],
   "source": [
    "using DSP"
   ]
  },
  {
   "cell_type": "code",
   "execution_count": null,
   "metadata": {},
   "outputs": [],
   "source": [
    "x = filt(ones(10), [10], randn(10000))\n",
    "plot(x)"
   ]
  },
  {
   "cell_type": "code",
   "execution_count": null,
   "metadata": {},
   "outputs": [],
   "source": [
    "S = welch_pgram(x)"
   ]
  },
  {
   "cell_type": "code",
   "execution_count": null,
   "metadata": {},
   "outputs": [],
   "source": [
    "using SpectralDistances\n",
    "plot(S)"
   ]
  },
  {
   "cell_type": "code",
   "execution_count": null,
   "metadata": {},
   "outputs": [],
   "source": [
    "S = spectrogram(x)\n",
    "plot(S)"
   ]
  },
  {
   "cell_type": "code",
   "execution_count": null,
   "metadata": {},
   "outputs": [],
   "source": [
    "responsetype = Bandpass(10, 40; fs=1000)\n",
    "designmethod = Butterworth(4)\n",
    "xf = filt(digitalfilter(responsetype, designmethod), x)\n",
    "plot(welch_pgram(xf), title=\"Bandpass fitlered signal\")"
   ]
  },
  {
   "cell_type": "code",
   "execution_count": null,
   "metadata": {},
   "outputs": [],
   "source": [
    "using LPVSpectral\n",
    "t = 0:0.1:100\n",
    "x = sin.(2pi .* t) + √2sin.(2pi .* 2 .*t) .+ 0.1.*randn.()\n",
    "s,w = ls_sparse_spectral(x,t,0.1:0.01:3)\n",
    "plot(w, abs2.(s))"
   ]
  }
 ],
 "metadata": {
  "@webio": {
   "lastCommId": null,
   "lastKernelId": null
  },
  "kernelspec": {
   "display_name": "Julia 1.3.0-rc4",
   "language": "julia",
   "name": "julia-1.3"
  },
  "language_info": {
   "file_extension": ".jl",
   "mimetype": "application/julia",
   "name": "julia",
   "version": "1.3.0"
  }
 },
 "nbformat": 4,
 "nbformat_minor": 2
}
