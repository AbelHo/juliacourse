{
 "cells": [
  {
   "cell_type": "markdown",
   "metadata": {},
   "source": [
    "# Auto tuning\n",
    "\n",
    "## The processes\n",
    "The processes studied in this session are third order systems with two poles in $s=-0.5$ and one pole in -2.\n",
    "$$P(s) = \\dfrac{1}{(2s+1)^2(0.5s+1)}$$\n",
    "with or without input nonlinearity.\n",
    "\n",
    "## Installation\n",
    "- First of all, you need Julia installed, see https://julialang.org/downloads/\n",
    "- You also need [IJulia](https://github.com/JuliaLang/IJulia.jl#installation), which in turn requires Jupyter.\n",
    "- Once Julia is up and running, the following julia code only has to be run once, it installs the relevant packages."
   ]
  },
  {
   "cell_type": "markdown",
   "metadata": {},
   "source": [
    "The code below must be run once every time the kernel is restarted"
   ]
  },
  {
   "cell_type": "code",
   "execution_count": null,
   "metadata": {},
   "outputs": [
    {
     "name": "stderr",
     "output_type": "stream",
     "text": [
      "┌ Info: Precompiling ControlSystems [a6e380b2-a6ca-5380-bf3e-84a91bcd477e]\n",
      "└ @ Base loading.jl:1273\n",
      "┌ Info: Precompiling Interact [c601a237-2ae4-5e1e-952c-7a85b0c7eef1]\n",
      "└ @ Base loading.jl:1273\n"
     ]
    }
   ],
   "source": [
    "using ControlSystems, OrdinaryDiffEq, Plots, Interact, Pkg, LinearAlgebra, Statistics\n",
    "gr(show=false, size=(500,400)) # Set defaults for plotting"
   ]
  },
  {
   "cell_type": "markdown",
   "metadata": {},
   "source": [
    "We now proceed to define the process model and some parameters for our simulation"
   ]
  },
  {
   "cell_type": "code",
   "execution_count": null,
   "metadata": {},
   "outputs": [],
   "source": [
    "P              = tf(1,[2.,1])^2*tf(1,[0.5,1])  # Process model\n",
    "h              = 0.1             # Sample time (only used for plots)\n",
    "Ps             = ss(P);          # State-space representation of process model"
   ]
  },
  {
   "cell_type": "code",
   "execution_count": null,
   "metadata": {},
   "outputs": [],
   "source": [
    "s      = Simulator(Ps)\n",
    "x0     = [0.,0,0] # Initial state\n",
    "Tf     = 20              # Length of experiments (seconds)\n",
    "t      = 0:h:Tf          # Time vector\n",
    "tspan  = (0.0,Tf)"
   ]
  },
  {
   "cell_type": "markdown",
   "metadata": {},
   "source": [
    "## Auto tuning\n",
    "Even with interactive tools, tuning a PID controller by hand can be difficult. A basic control course teaches us how to design a PID controller based on, e.g., pole placement. Here, we will formulate an optimization problem where we optimize a cost function $J(k_p,k_i,k_d)$ based on the step response of the closed-loop system\n",
    "$$J(k_p,k_i,k_d) \\quad=\\quad \\dfrac{1}{T_f}\\int_0^{T_f} |r(t)-y(t)| dt \\quad=\\quad \\dfrac{1}{T_f}\\int_0^{T_f} |e(t)|dt$$"
   ]
  },
  {
   "cell_type": "code",
   "execution_count": null,
   "metadata": {},
   "outputs": [],
   "source": [
    "# using Pkg; Pkg.add(\"NLopt\") # Install NLopt if not already installed"
   ]
  },
  {
   "cell_type": "code",
   "execution_count": null,
   "metadata": {},
   "outputs": [],
   "source": [
    "using NLopt, ForwardDiff\n",
    "p              = [0.1, 0.1, 0.1] # Initial guess [kp, ki, kd]\n",
    "Kpid(kp,ki,kd) = pid(kp=kp, ki=ki, kd=kd)\n",
    "Kpid(p)        = K(p...)\n",
    "\n",
    "function timedomain(p)\n",
    "    C     = Kpid(p[1], p[2], p[3])\n",
    "    L     = feedback(P*C) |> ss\n",
    "    s     = Simulator(L, (x,t) -> [1]) # Sim. unit step load disturbance\n",
    "    ty    = eltype(p) # So that all inputs to solve have same numerical type (ForwardDiff.Dual)\n",
    "    x0    = zeros(L.nx) .|> ty\n",
    "    tspan = (ty(0.),ty(Tf))\n",
    "    sol   = solve(s, x0, tspan)\n",
    "    y     = L.C*sol(t) # y = C*x\n",
    "    y\n",
    "end\n",
    "\n",
    "function costfun(p)\n",
    "    y = timedomain(p)\n",
    "    mean(abs,1 .- y) # ~ Integrated absolute error IAE\n",
    "end\n",
    "\n",
    "f_cfg = ForwardDiff.GradientConfig(costfun, p)\n",
    "\n",
    "function f(p::Vector, grad::Vector)\n",
    "    if length(grad) > 0\n",
    "        grad .= ForwardDiff.gradient(costfun,p,f_cfg)\n",
    "    end\n",
    "    costfun(p)\n",
    "end\n",
    "\n",
    "function runopt(p; f_tol = 1e-5, x_tol = 1e-3)\n",
    "    opt = Opt(:LD_AUGLAG, 3)\n",
    "    lower_bounds!(opt, 1e-6ones(3))\n",
    "    xtol_rel!(opt, x_tol)\n",
    "    ftol_rel!(opt, f_tol)\n",
    "\n",
    "    min_objective!(opt, f)\n",
    "    NLopt.optimize(opt, p)[2]\n",
    "end\n",
    "\n",
    "@info \"Starting Optimization\"\n",
    "@time p = runopt(p, x_tol=1e-6)\n",
    "y = timedomain(p)\n",
    "plot(t,y')"
   ]
  },
  {
   "cell_type": "markdown",
   "metadata": {},
   "source": [
    "If we look at the sensitivity function of the closed-loop system obtained with the optimized controller, we see that the optimization procedure produced a quite aggressive controller with poor robustness. "
   ]
  },
  {
   "cell_type": "code",
   "execution_count": null,
   "metadata": {},
   "outputs": [],
   "source": [
    "C     = Kpid(p...)\n",
    "gangoffourplot(P,C, exp10.(LinRange(-1,3,500)), legend=false)"
   ]
  },
  {
   "cell_type": "markdown",
   "metadata": {},
   "source": [
    "To combat this, we can add bounds on the maximum value of the sensitivity functions:"
   ]
  },
  {
   "cell_type": "code",
   "execution_count": null,
   "metadata": {},
   "outputs": [],
   "source": [
    "Ω  = exp10.(LinRange(-1,2,150))\n",
    "p0 = [0.1,0.1,0.1]\n",
    "function freqdomain(p)\n",
    "    C     = Kpid(p[1], p[2], p[3])\n",
    "    S     = 1/(1+P*C) # Sensitivity fun\n",
    "    T     = tf(1.) - S# Comp. Sensitivity fun\n",
    "    Sw    = vec(bode(S,Ω)[1]) # Freq. domain constraints\n",
    "    Tw    = vec(bode(T,Ω)[1]) # Freq. domain constraints\n",
    "    Sw,Tw\n",
    "end\n",
    "Mt = 1.5\n",
    "@manipulate for Ms = LinRange(1.1,2,20)\n",
    "    global p0, p\n",
    "    p = p0\n",
    "    function constraintfun(p)\n",
    "        Sw,Tw = freqdomain(p)\n",
    "        [maximum(Sw)-Ms; maximum(Tw)-Mt]\n",
    "    end\n",
    "\n",
    "    g_cfg = ForwardDiff.JacobianConfig(constraintfun, p)\n",
    "\n",
    "    function c(result, p::Vector, grad)\n",
    "        if length(grad) > 0\n",
    "            grad .= ForwardDiff.jacobian(constraintfun,p,g_cfg)'\n",
    "        end\n",
    "        result .= constraintfun(p)\n",
    "    end\n",
    "\n",
    "    function runopt(p; f_tol = 1e-5, x_tol = 1e-3, c_tol = 1e-8)\n",
    "        opt = Opt(:LD_SLSQP, 3)\n",
    "        lower_bounds!(opt, 1e-6ones(3))\n",
    "        xtol_rel!(opt, x_tol)\n",
    "        ftol_rel!(opt, f_tol)\n",
    "\n",
    "        min_objective!(opt, f)\n",
    "        inequality_constraint!(opt, c, c_tol*ones(2))\n",
    "        NLopt.optimize(opt, p)[2]\n",
    "    end\n",
    "\n",
    "\n",
    "    p = runopt(p, x_tol=1e-6)\n",
    "    y = timedomain(p)\n",
    "    Sw,Tw = freqdomain(p)\n",
    "    plot(t,y', layout=2, size=(800,400), ylims=(0,1.4))\n",
    "    plot!(Ω, [Sw Tw] , lab=[\"Sw\" \"Tw\"], subplot=2, xscale=:log10, yscale=:log10)\n",
    "    plot!([Ω[1],Ω[end]], [Ms,Ms], c = :black, l=:dash, subplot=2, lab=\"Ms\")\n",
    "    plot!([Ω[1],Ω[end]], [Mt,Mt], c = :purple, l=:dash, subplot=2, lab=\"Mt\", ylims=(0.01,3))\n",
    "end"
   ]
  },
  {
   "cell_type": "code",
   "execution_count": null,
   "metadata": {},
   "outputs": [],
   "source": [
    "C     = Kpid(p...)\n",
    "gangoffourplot(P,C, exp10.(LinRange(-1,3,500)), legend=false)"
   ]
  }
 ],
 "metadata": {
  "@webio": {
   "lastCommId": null,
   "lastKernelId": null
  },
  "kernelspec": {
   "display_name": "Julia 1.3.0-rc4",
   "language": "julia",
   "name": "julia-1.3"
  },
  "language_info": {
   "file_extension": ".jl",
   "mimetype": "application/julia",
   "name": "julia",
   "version": "1.3.0"
  }
 },
 "nbformat": 4,
 "nbformat_minor": 2
}
