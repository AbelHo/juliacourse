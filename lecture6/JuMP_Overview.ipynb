{
 "cells": [
  {
   "cell_type": "markdown",
   "metadata": {
    "slideshow": {
     "slide_type": "slide"
    }
   },
   "source": [
    "# Optimization in JuMP\n",
    "\n",
    "Code: https://github.com/JuliaOpt/JuMP.jl Docs: http://www.juliaopt.org/JuMP.jl\n",
    "\n",
    "From the documentation:\n",
    "\n",
    "\"JuMP is a domain-specific modeling language for mathematical optimization embedded in Julia. It currently supports a number of open-source and commercial solvers (see below) for a variety of problem classes, including linear programming, mixed-integer programming, second-order conic programming, semidefinite programming, and nonlinear programming.\"\n",
    "* Simple syntax\n",
    "* Fast\n",
    "* Solver independent language\n",
    "* Supports many solvers\n",
    " - Including: Artelys Knitro, Bonmin, Cbc, Clp, Couenne, CPLEX, ECOS, FICO Xpress, GLPK, Gurobi, Ipopt, MOSEK, NLopt, and SCS.\n",
    "* Written in Julia\n",
    "\n",
    "Note: Not all solvers support all sorts of sets and constraints. This means that you should select a solver after your requirements. But also that you can use very efficient solvers for special problems, such as LP or QP. "
   ]
  },
  {
   "cell_type": "markdown",
   "metadata": {
    "slideshow": {
     "slide_type": "slide"
    }
   },
   "source": [
    "### In JuMP, each model is connected with an optimizer"
   ]
  },
  {
   "cell_type": "code",
   "execution_count": 1,
   "metadata": {
    "slideshow": {
     "slide_type": "fragment"
    }
   },
   "outputs": [
    {
     "data": {
      "text/latex": [
       "$$ \\begin{alignat*}{1}\\text{feasibility}\\\\\n",
       "\\text{Subject to} \\quad\\end{alignat*}\n",
       " $$"
      ],
      "text/plain": [
       "A JuMP Model\n",
       "Feasibility problem with:\n",
       "Variables: 0\n",
       "Model mode: AUTOMATIC\n",
       "CachingOptimizer state: EMPTY_OPTIMIZER\n",
       "Solver name: SolverName() attribute not implemented by the optimizer."
      ]
     },
     "execution_count": 1,
     "metadata": {},
     "output_type": "execute_result"
    }
   ],
   "source": [
    "using JuMP, Ipopt\n",
    "model = Model(with_optimizer(Ipopt.Optimizer, print_level=0))"
   ]
  },
  {
   "cell_type": "markdown",
   "metadata": {
    "slideshow": {
     "slide_type": "fragment"
    }
   },
   "source": [
    "Variables are defined using `@variable` and connected to a model.\n",
    "Vectors can be defined using `x[1:n]`, and simple constraints can optionally be added"
   ]
  },
  {
   "cell_type": "code",
   "execution_count": 2,
   "metadata": {
    "slideshow": {
     "slide_type": "fragment"
    }
   },
   "outputs": [
    {
     "data": {
      "text/plain": [
       "10-element Array{VariableRef,1}:\n",
       " x[1] \n",
       " x[2] \n",
       " x[3] \n",
       " x[4] \n",
       " x[5] \n",
       " x[6] \n",
       " x[7] \n",
       " x[8] \n",
       " x[9] \n",
       " x[10]"
      ]
     },
     "execution_count": 2,
     "metadata": {},
     "output_type": "execute_result"
    }
   ],
   "source": [
    "n = 10\n",
    "@variable(model, x[1:n] >= 0)"
   ]
  },
  {
   "cell_type": "markdown",
   "metadata": {
    "slideshow": {
     "slide_type": "slide"
    }
   },
   "source": [
    "### Adding Constraints\n",
    "Simple constraints can be added uisng the built in Julia operators, and optionally be given names using\n",
    "\n",
    "`@constraint(model, [name,] constraint)`\n",
    "\n",
    "or \n",
    "\n",
    "`@constraint(model, [name,] expression in MOI.SomeSetHere())`"
   ]
  },
  {
   "cell_type": "code",
   "execution_count": 3,
   "metadata": {
    "slideshow": {
     "slide_type": "fragment"
    }
   },
   "outputs": [
    {
     "data": {
      "text/latex": [
       "firstbig : $ x_{10} \\in \\[1.0, 10.0\\] $"
      ],
      "text/plain": [
       "firstbig : x[10] ∈ [1.0, 10.0]"
      ]
     },
     "execution_count": 3,
     "metadata": {},
     "output_type": "execute_result"
    }
   ],
   "source": [
    "@constraint(model, firstbig, 1 <= x[10] <= 10)"
   ]
  },
  {
   "cell_type": "markdown",
   "metadata": {
    "slideshow": {
     "slide_type": "fragment"
    }
   },
   "source": [
    "And a set of constraints can be created in a simple way"
   ]
  },
  {
   "cell_type": "code",
   "execution_count": 4,
   "metadata": {
    "slideshow": {
     "slide_type": "fragment"
    }
   },
   "outputs": [
    {
     "data": {
      "text/plain": [
       "3-element Array{ConstraintRef{Model,C,Shape} where Shape<:AbstractShape where C,1}:\n",
       " first3[1] : x[1] ≤ 10.0\n",
       " first3[2] : x[2] ≤ 20.0\n",
       " first3[3] : x[3] ≤ 30.0"
      ]
     },
     "execution_count": 4,
     "metadata": {},
     "output_type": "execute_result"
    }
   ],
   "source": [
    "@constraint(model, first3[k=1:3], x[k] <= 10*k)"
   ]
  },
  {
   "cell_type": "markdown",
   "metadata": {
    "slideshow": {
     "slide_type": "slide"
    }
   },
   "source": [
    "Constraints can then be inspected as expected"
   ]
  },
  {
   "cell_type": "code",
   "execution_count": 5,
   "metadata": {
    "slideshow": {
     "slide_type": "fragment"
    }
   },
   "outputs": [
    {
     "data": {
      "text/latex": [
       "firstbig : $ x_{10} \\in \\[1.0, 10.0\\] $"
      ],
      "text/plain": [
       "firstbig : x[10] ∈ [1.0, 10.0]"
      ]
     },
     "execution_count": 5,
     "metadata": {},
     "output_type": "execute_result"
    }
   ],
   "source": [
    "firstbig"
   ]
  },
  {
   "cell_type": "code",
   "execution_count": 6,
   "metadata": {
    "slideshow": {
     "slide_type": "fragment"
    }
   },
   "outputs": [
    {
     "data": {
      "text/plain": [
       "3-element Array{ConstraintRef{Model,C,Shape} where Shape<:AbstractShape where C,1}:\n",
       " first3[1] : x[1] ≤ 10.0\n",
       " first3[2] : x[2] ≤ 20.0\n",
       " first3[3] : x[3] ≤ 30.0"
      ]
     },
     "execution_count": 6,
     "metadata": {},
     "output_type": "execute_result"
    }
   ],
   "source": [
    "first3"
   ]
  },
  {
   "cell_type": "markdown",
   "metadata": {
    "slideshow": {
     "slide_type": "slide"
    }
   },
   "source": [
    "And the full model so far can be printed"
   ]
  },
  {
   "cell_type": "code",
   "execution_count": 7,
   "metadata": {
    "slideshow": {
     "slide_type": "fragment"
    }
   },
   "outputs": [
    {
     "data": {
      "text/latex": [
       "$$ \\begin{alignat*}{1}\\text{feasibility}\\\\\n",
       "\\text{Subject to} \\quad & x_{1} \\geq 0.0\\\\\n",
       " & x_{2} \\geq 0.0\\\\\n",
       " & x_{3} \\geq 0.0\\\\\n",
       " & x_{4} \\geq 0.0\\\\\n",
       " & x_{5} \\geq 0.0\\\\\n",
       " & x_{6} \\geq 0.0\\\\\n",
       " & x_{7} \\geq 0.0\\\\\n",
       " & x_{8} \\geq 0.0\\\\\n",
       " & x_{9} \\geq 0.0\\\\\n",
       " & x_{10} \\geq 0.0\\\\\n",
       " & x_{1} \\leq 10.0\\\\\n",
       " & x_{2} \\leq 20.0\\\\\n",
       " & x_{3} \\leq 30.0\\\\\n",
       " & x_{10} \\in \\[1.0, 10.0\\]\\\\\n",
       "\\end{alignat*}\n",
       " $$"
      ],
      "text/plain": [
       "A JuMP Model\n",
       "Feasibility problem with:\n",
       "Variables: 10\n",
       "`VariableRef`-in-`MathOptInterface.GreaterThan{Float64}`: 10 constraints\n",
       "`GenericAffExpr{Float64,VariableRef}`-in-`MathOptInterface.LessThan{Float64}`: 3 constraints\n",
       "`GenericAffExpr{Float64,VariableRef}`-in-`MathOptInterface.Interval{Float64}`: 1 constraint\n",
       "Model mode: AUTOMATIC\n",
       "CachingOptimizer state: EMPTY_OPTIMIZER\n",
       "Solver name: SolverName() attribute not implemented by the optimizer.\n",
       "Names registered in the model: first3, firstbig, x"
      ]
     },
     "execution_count": 7,
     "metadata": {},
     "output_type": "execute_result"
    }
   ],
   "source": [
    "model"
   ]
  },
  {
   "cell_type": "markdown",
   "metadata": {
    "slideshow": {
     "slide_type": "slide"
    }
   },
   "source": [
    "Vector constraints can be added with the broadcast syntax `.`"
   ]
  },
  {
   "cell_type": "code",
   "execution_count": 8,
   "metadata": {
    "slideshow": {
     "slide_type": "fragment"
    }
   },
   "outputs": [],
   "source": [
    "using Random\n",
    "Random.seed!(2)\n",
    "m = 3\n",
    "\n",
    "A = randn(m,n)\n",
    "b = randn(m)\n",
    "\n",
    "@constraint(model, A*x .== b);"
   ]
  },
  {
   "cell_type": "markdown",
   "metadata": {
    "slideshow": {
     "slide_type": "slide"
    }
   },
   "source": [
    "Expressions can be built up using `@expression`"
   ]
  },
  {
   "cell_type": "code",
   "execution_count": 9,
   "metadata": {
    "slideshow": {
     "slide_type": "fragment"
    }
   },
   "outputs": [],
   "source": [
    "C = randn(m,n)\n",
    "d = randn(m)\n",
    "\n",
    "ineq = @expression(model, C*x - d);"
   ]
  },
  {
   "cell_type": "markdown",
   "metadata": {
    "slideshow": {
     "slide_type": "fragment"
    }
   },
   "source": [
    "And add constraints for expresions in sets"
   ]
  },
  {
   "cell_type": "code",
   "execution_count": 10,
   "metadata": {
    "slideshow": {
     "slide_type": "fragment"
    }
   },
   "outputs": [],
   "source": [
    "@constraint(model, ineq in MOI.Nonnegatives(m));"
   ]
  },
  {
   "cell_type": "markdown",
   "metadata": {
    "slideshow": {
     "slide_type": "fragment"
    }
   },
   "source": [
    "Or we could simply have written\n",
    "\n",
    "`@constraint(model, C*x .<= d)`"
   ]
  },
  {
   "cell_type": "markdown",
   "metadata": {
    "slideshow": {
     "slide_type": "slide"
    }
   },
   "source": [
    "### Objective\n",
    "Simple cost functions can be defined by\n",
    "\n",
    "`@objective(model, sense, expression)`"
   ]
  },
  {
   "cell_type": "code",
   "execution_count": 11,
   "metadata": {
    "slideshow": {
     "slide_type": "fragment"
    }
   },
   "outputs": [],
   "source": [
    "M = randn(n,n)\n",
    "Q = M*M'\n",
    "p = randn(n)\n",
    "\n",
    "@objective(model, Min,  x'*Q*x - p'*x);"
   ]
  },
  {
   "cell_type": "markdown",
   "metadata": {
    "slideshow": {
     "slide_type": "slide"
    }
   },
   "source": [
    "### Solving\n",
    "the solver is called using `optimize!`\n",
    "and values are accessed using `value`"
   ]
  },
  {
   "cell_type": "code",
   "execution_count": 13,
   "metadata": {
    "slideshow": {
     "slide_type": "fragment"
    }
   },
   "outputs": [
    {
     "name": "stdout",
     "output_type": "stream",
     "text": [
      "termination_status(model) = LOCALLY_SOLVED::TerminationStatusCode = 4\n"
     ]
    },
    {
     "data": {
      "text/plain": [
       "10-element Array{Float64,1}:\n",
       " 0.14117701606066796\n",
       " 1.3225117817778225 \n",
       " 0.0                \n",
       " 0.44180210934358255\n",
       " 1.066265309511417  \n",
       " 2.1971581225582093 \n",
       " 0.0                \n",
       " 2.6830282965053636 \n",
       " 0.0                \n",
       " 0.999999990015267  "
      ]
     },
     "execution_count": 13,
     "metadata": {},
     "output_type": "execute_result"
    }
   ],
   "source": [
    "optimize!(model)\n",
    "\n",
    "@show termination_status(model)\n",
    "sol = value.(x)"
   ]
  },
  {
   "cell_type": "markdown",
   "metadata": {
    "slideshow": {
     "slide_type": "slide"
    }
   },
   "source": [
    "We can also ask the solver for a range of data, such as objective_value, dual variables and so on.\n",
    "\n",
    "See http://www.juliaopt.org/JuMP.jl for details"
   ]
  },
  {
   "cell_type": "code",
   "execution_count": 14,
   "metadata": {
    "slideshow": {
     "slide_type": "fragment"
    }
   },
   "outputs": [
    {
     "name": "stdout",
     "output_type": "stream",
     "text": [
      "objective_value(model) = 153.43269713049497\n",
      "A * sol - b = [4.89703e-9, 2.11316e-8, 1.05965e-8]\n",
      "value.(ineq) = [-1.16673e-8, -2.46458e-8, 6.83794]\n"
     ]
    }
   ],
   "source": [
    "@show objective_value(model)\n",
    "\n",
    "@show A*sol-b         # Should be rougly zero\n",
    "\n",
    "# We can evaluate expressions\n",
    "@show value.(ineq);    # Should be nonnegative"
   ]
  },
  {
   "cell_type": "markdown",
   "metadata": {
    "slideshow": {
     "slide_type": "slide"
    }
   },
   "source": [
    "### General nonlinear programming is also supported by some solvers\n",
    "\n",
    "These objectives and constraints can be entered as\n",
    "\n",
    "`@NLobjective(model, Min, my_function(x, y))`\n",
    "\n",
    "and\n",
    "\n",
    "`@NLconstraint(model, x[1] * x[2] * x[3] * x[4] >= 25)`"
   ]
  },
  {
   "cell_type": "code",
   "execution_count": null,
   "metadata": {},
   "outputs": [],
   "source": []
  }
 ],
 "metadata": {
  "@webio": {
   "lastCommId": null,
   "lastKernelId": null
  },
  "celltoolbar": "Slideshow",
  "kernelspec": {
   "display_name": "Julia 1.1.0",
   "language": "julia",
   "name": "julia-1.1"
  },
  "language_info": {
   "file_extension": ".jl",
   "mimetype": "application/julia",
   "name": "julia",
   "version": "1.1.0"
  }
 },
 "nbformat": 4,
 "nbformat_minor": 2
}
