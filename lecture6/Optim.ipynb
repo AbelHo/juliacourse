{
 "cells": [
  {
   "cell_type": "markdown",
   "metadata": {
    "slideshow": {
     "slide_type": "slide"
    }
   },
   "source": [
    "# General optimization\n",
    "[Optim.jl](https://github.com/JuliaNLSolvers/Optim.jl)"
   ]
  },
  {
   "cell_type": "code",
   "execution_count": null,
   "metadata": {
    "slideshow": {
     "slide_type": "slide"
    }
   },
   "outputs": [],
   "source": [
    "using Optim\n",
    "rosenbrock(x) =  (1.0 - x[1])^2 + 100.0 * (x[2] - x[1]^2)^2\n",
    "result = optimize(rosenbrock, zeros(2), BFGS(), autodiff=:forward)"
   ]
  },
  {
   "cell_type": "markdown",
   "metadata": {
    "slideshow": {
     "slide_type": "fragment"
    }
   },
   "source": [
    "Optim automatically uses forward-mode AD to find the gradients of the cost-function"
   ]
  },
  {
   "cell_type": "markdown",
   "metadata": {
    "slideshow": {
     "slide_type": "slide"
    }
   },
   "source": [
    "`fminsearch` in matlab is similar to"
   ]
  },
  {
   "cell_type": "code",
   "execution_count": null,
   "metadata": {
    "slideshow": {
     "slide_type": "fragment"
    }
   },
   "outputs": [],
   "source": [
    "result = optimize(rosenbrock, zeros(2), NelderMead())"
   ]
  },
  {
   "cell_type": "code",
   "execution_count": null,
   "metadata": {
    "slideshow": {
     "slide_type": "slide"
    }
   },
   "outputs": [],
   "source": [
    "result = optimize(rosenbrock, zeros(2), Newton(), autodiff=:forward)"
   ]
  },
  {
   "cell_type": "markdown",
   "metadata": {
    "slideshow": {
     "slide_type": "slide"
    }
   },
   "source": [
    "Optim supports a number of common optimization algorithms\n",
    "\n",
    "- Gradient Free\n",
    "  - Nelder Mead\n",
    "  - Simulated Annealing\n",
    "  - Simulated Annealing w/ bounds\n",
    "  - Particle Swarm\n",
    "- Gradient Required\n",
    "  - Conjugate Gradient\n",
    "  - Gradient Descent\n",
    "  - (L-)BFGS\n",
    "  - Acceleration\n",
    "- Hessian Required\n",
    "  - Newton\n",
    "  - Newton with Trust Region\n",
    "  - Interior point Newton"
   ]
  },
  {
   "cell_type": "markdown",
   "metadata": {
    "slideshow": {
     "slide_type": "subslide"
    }
   },
   "source": [
    "Optim is the goto tool if you want to optimize a Julia function."
   ]
  },
  {
   "cell_type": "markdown",
   "metadata": {
    "slideshow": {
     "slide_type": "fragment"
    }
   },
   "source": [
    "### Drawbacks:\n",
    "- Only handles box constraints and some simple manifolds\n",
    "- Does not exploit structure\n",
    "- Does not explot convexity"
   ]
  },
  {
   "cell_type": "markdown",
   "metadata": {
    "slideshow": {
     "slide_type": "fragment"
    }
   },
   "source": [
    "### Pros:\n",
    "- Very responsive developer\n",
    "- Very easy to use\n",
    "- Automatic AD"
   ]
  },
  {
   "cell_type": "markdown",
   "metadata": {
    "slideshow": {
     "slide_type": "slide"
    }
   },
   "source": [
    "- Convex program -> Convex.jl\n",
    "- Structured/difficult/mixed-integer problem -> JuMP.jl\n",
    "- Nonlinear constraints -> NLopt.jl\n",
    "- Deep learning -> Flux.jl"
   ]
  }
 ],
 "metadata": {
  "celltoolbar": "Slideshow",
  "kernelspec": {
   "display_name": "Julia 1.3.0-rc4",
   "language": "julia",
   "name": "julia-1.3"
  },
  "language_info": {
   "file_extension": ".jl",
   "mimetype": "application/julia",
   "name": "julia",
   "version": "1.3.0"
  }
 },
 "nbformat": 4,
 "nbformat_minor": 2
}
