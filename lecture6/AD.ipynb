{
 "cells": [
  {
   "cell_type": "markdown",
   "metadata": {
    "slideshow": {
     "slide_type": "slide"
    }
   },
   "source": [
    "# Automatic Differentiation\n",
    "AD is an extremely powerful tool. In julia, you can differentiate almost any valid julia program to obtain derivatives, gradients, jacobians and hessians etc. automatically, with high performance. This is what makes up the bulk of most deep-learning libraries, but contrary to most libraries, you do not need to write your code using a subset of julia or a DL-specific language, you can just write regular julia code.\n",
    "\n",
    "There are a number of different kinds of AD. In the following, we will refer to a function \n",
    "$$ f : \\mathbb{R}^n -> \\mathbb{R}^m$$"
   ]
  },
  {
   "cell_type": "markdown",
   "metadata": {
    "slideshow": {
     "slide_type": "slide"
    }
   },
   "source": [
    "## Forward-mode AD\n",
    "Using dual numbers, forward-mode AD perfrorms a single forward pass of your program, calculating both the function value and gradients in one go. FAD is algorithmically favorable when $f$ is \"few to many\", or $n < m$. It also typically has the least overhead, so is competetive when both $n$ and $m$ are small."
   ]
  },
  {
   "cell_type": "markdown",
   "metadata": {
    "slideshow": {
     "slide_type": "slide"
    }
   },
   "source": [
    "## Reverse-mode AD\n",
    "This is what is used in DL libraries. RAD works by constructing a computation graph, either before execution (as old tensorflow) or during the execution (most common today).\n",
    "RAD is algorithmically favorable when $f$ is \"many to few\", or $n > m$. This is the case in most DL, where the cost function is a scalar-valued function of very many parameters, the NN weights. For functions with many outputs, "
   ]
  },
  {
   "cell_type": "code",
   "execution_count": 1,
   "metadata": {
    "slideshow": {
     "slide_type": "slide"
    }
   },
   "outputs": [
    {
     "data": {
      "text/plain": [
       "5-element Array{Float64,1}:\n",
       " 3.5149762945487666\n",
       " 2.286481415170909 \n",
       " 1.9477252312769016\n",
       " 1.9630995451261493\n",
       " 2.1217540210288757"
      ]
     },
     "execution_count": 1,
     "metadata": {},
     "output_type": "execute_result"
    }
   ],
   "source": [
    "using ForwardDiff, BenchmarkTools\n",
    "\n",
    "f(x) = sum(sin, x) + prod(tan, x) * sum(sqrt, x);\n",
    "\n",
    "x = rand(5) # small size \n",
    "g = x -> ForwardDiff.gradient(f, x); # g = ∇f\n",
    "g(x)"
   ]
  },
  {
   "cell_type": "code",
   "execution_count": 2,
   "metadata": {
    "slideshow": {
     "slide_type": "subslide"
    }
   },
   "outputs": [
    {
     "name": "stdout",
     "output_type": "stream",
     "text": [
      "  567.685 ns (3 allocations: 688 bytes)\n"
     ]
    }
   ],
   "source": [
    "@btime g($x);"
   ]
  },
  {
   "cell_type": "code",
   "execution_count": 3,
   "metadata": {
    "slideshow": {
     "slide_type": "subslide"
    }
   },
   "outputs": [
    {
     "data": {
      "text/plain": [
       "5×5 Array{Float64,2}:\n",
       " 1.94011  6.11041  5.47095  5.44969  5.65504\n",
       " 6.11041  1.49091  3.08014  3.06812  3.18352\n",
       " 5.47095  3.08014  2.25584  2.74717  2.8506 \n",
       " 5.44969  3.06812  2.74717  2.11657  2.83948\n",
       " 5.65504  3.18352  2.8506   2.83948  1.60844"
      ]
     },
     "execution_count": 3,
     "metadata": {},
     "output_type": "execute_result"
    }
   ],
   "source": [
    "ForwardDiff.hessian(f, x)"
   ]
  },
  {
   "cell_type": "code",
   "execution_count": 4,
   "metadata": {
    "slideshow": {
     "slide_type": "slide"
    }
   },
   "outputs": [
    {
     "data": {
      "text/plain": [
       "true"
      ]
     },
     "execution_count": 4,
     "metadata": {},
     "output_type": "execute_result"
    }
   ],
   "source": [
    "using Zygote\n",
    "\n",
    "gz = x -> Zygote.gradient(f, x)[1]; # g = ∇f\n",
    "gz(x) ≈ g(x)"
   ]
  },
  {
   "cell_type": "code",
   "execution_count": 5,
   "metadata": {
    "slideshow": {
     "slide_type": "subslide"
    }
   },
   "outputs": [
    {
     "name": "stdout",
     "output_type": "stream",
     "text": [
      "  24.050 μs (321 allocations: 11.19 KiB)\n"
     ]
    }
   ],
   "source": [
    "@btime gz($x);"
   ]
  },
  {
   "cell_type": "code",
   "execution_count": 6,
   "metadata": {
    "slideshow": {
     "slide_type": "slide"
    }
   },
   "outputs": [
    {
     "data": {
      "text/plain": [
       "true"
      ]
     },
     "execution_count": 6,
     "metadata": {},
     "output_type": "execute_result"
    }
   ],
   "source": [
    "using Flux.Tracker\n",
    "using Flux.Tracker: data\n",
    "\n",
    "gf = x -> data(Tracker.gradient(f, x)[1]) # g = ∇f\n",
    "gf(x) ≈ g(x)"
   ]
  },
  {
   "cell_type": "code",
   "execution_count": 7,
   "metadata": {
    "slideshow": {
     "slide_type": "subslide"
    }
   },
   "outputs": [
    {
     "name": "stdout",
     "output_type": "stream",
     "text": [
      "  8.700 μs (143 allocations: 5.18 KiB)\n"
     ]
    }
   ],
   "source": [
    "@btime gf($x);"
   ]
  },
  {
   "cell_type": "markdown",
   "metadata": {
    "slideshow": {
     "slide_type": "slide"
    }
   },
   "source": [
    "If we change the size of the input vector, the relative timings change"
   ]
  },
  {
   "cell_type": "code",
   "execution_count": 8,
   "metadata": {
    "slideshow": {
     "slide_type": "fragment"
    }
   },
   "outputs": [
    {
     "name": "stdout",
     "output_type": "stream",
     "text": [
      "  106.736 ms (5 allocations: 548.17 KiB)\n"
     ]
    }
   ],
   "source": [
    "x = rand(5000)\n",
    "@btime g($x);"
   ]
  },
  {
   "cell_type": "code",
   "execution_count": 9,
   "metadata": {
    "slideshow": {
     "slide_type": "fragment"
    }
   },
   "outputs": [],
   "source": [
    "#@btime gz($x);"
   ]
  },
  {
   "cell_type": "code",
   "execution_count": 10,
   "metadata": {
    "slideshow": {
     "slide_type": "fragment"
    }
   },
   "outputs": [
    {
     "name": "stdout",
     "output_type": "stream",
     "text": [
      "  364.825 μs (157 allocations: 551.40 KiB)\n"
     ]
    }
   ],
   "source": [
    "@btime gf($x);"
   ]
  },
  {
   "cell_type": "markdown",
   "metadata": {
    "slideshow": {
     "slide_type": "slide"
    }
   },
   "source": [
    "Most AD (except for Zygote and perhaps Yota) in julia works by either overloading `Base` functions on custom types. This means that you can not use AD if you restrict the input types to your functions too much! In the following example, the input is restricted to `Vector{Float64}`"
   ]
  },
  {
   "cell_type": "code",
   "execution_count": 11,
   "metadata": {
    "slideshow": {
     "slide_type": "subslide"
    }
   },
   "outputs": [
    {
     "data": {
      "text/plain": [
       "9.681237039644286"
      ]
     },
     "execution_count": 11,
     "metadata": {},
     "output_type": "execute_result"
    }
   ],
   "source": [
    "x = abs.(randn(3))\n",
    "f2(x::Vector{Float64}) = sum(sin, x) + prod(tan, x) * sum(sqrt, x);\n",
    "f2(x)"
   ]
  },
  {
   "cell_type": "code",
   "execution_count": 12,
   "metadata": {
    "slideshow": {
     "slide_type": "fragment"
    }
   },
   "outputs": [
    {
     "ename": "MethodError",
     "evalue": "MethodError: no method matching f2(::Array{ForwardDiff.Dual{ForwardDiff.Tag{typeof(f2),Float64},Float64,3},1})\nClosest candidates are:\n  f2(!Matched::Array{Float64,1}) at In[11]:2",
     "output_type": "error",
     "traceback": [
      "MethodError: no method matching f2(::Array{ForwardDiff.Dual{ForwardDiff.Tag{typeof(f2),Float64},Float64,3},1})\nClosest candidates are:\n  f2(!Matched::Array{Float64,1}) at In[11]:2",
      "",
      "Stacktrace:",
      " [1] vector_mode_dual_eval(::typeof(f2), ::Array{Float64,1}, ::ForwardDiff.GradientConfig{ForwardDiff.Tag{typeof(f2),Float64},Float64,3,Array{ForwardDiff.Dual{ForwardDiff.Tag{typeof(f2),Float64},Float64,3},1}}) at /local/home/fredrikb/.julia/packages/ForwardDiff/N0wMF/src/apiutils.jl:37",
      " [2] vector_mode_gradient(::typeof(f2), ::Array{Float64,1}, ::ForwardDiff.GradientConfig{ForwardDiff.Tag{typeof(f2),Float64},Float64,3,Array{ForwardDiff.Dual{ForwardDiff.Tag{typeof(f2),Float64},Float64,3},1}}) at /local/home/fredrikb/.julia/packages/ForwardDiff/N0wMF/src/gradient.jl:97",
      " [3] gradient(::Function, ::Array{Float64,1}, ::ForwardDiff.GradientConfig{ForwardDiff.Tag{typeof(f2),Float64},Float64,3,Array{ForwardDiff.Dual{ForwardDiff.Tag{typeof(f2),Float64},Float64,3},1}}, ::Val{true}) at /local/home/fredrikb/.julia/packages/ForwardDiff/N0wMF/src/gradient.jl:17",
      " [4] gradient(::Function, ::Array{Float64,1}, ::ForwardDiff.GradientConfig{ForwardDiff.Tag{typeof(f2),Float64},Float64,3,Array{ForwardDiff.Dual{ForwardDiff.Tag{typeof(f2),Float64},Float64,3},1}}) at /local/home/fredrikb/.julia/packages/ForwardDiff/N0wMF/src/gradient.jl:15 (repeats 2 times)",
      " [5] top-level scope at In[12]:1"
     ]
    }
   ],
   "source": [
    "ForwardDiff.gradient(f2, x);"
   ]
  },
  {
   "cell_type": "markdown",
   "metadata": {
    "slideshow": {
     "slide_type": "fragment"
    }
   },
   "source": [
    "This did not work, since ForwardDiff  calls the function with an argument of type `Vector{<: Dual}`"
   ]
  },
  {
   "cell_type": "code",
   "execution_count": 13,
   "metadata": {
    "slideshow": {
     "slide_type": "subslide"
    }
   },
   "outputs": [
    {
     "ename": "MethodError",
     "evalue": "MethodError: no method matching f2(::TrackedArray{…,Array{Float64,1}})\nClosest candidates are:\n  f2(!Matched::Array{Float64,1}) at In[11]:2",
     "output_type": "error",
     "traceback": [
      "MethodError: no method matching f2(::TrackedArray{…,Array{Float64,1}})\nClosest candidates are:\n  f2(!Matched::Array{Float64,1}) at In[11]:2",
      "",
      "Stacktrace:",
      " [1] gradient_(::Function, ::Array{Float64,1}) at /local/home/fredrikb/.julia/packages/Tracker/6wcYJ/src/back.jl:90",
      " [2] #gradient#24 at /local/home/fredrikb/.julia/packages/Tracker/6wcYJ/src/back.jl:164 [inlined]",
      " [3] gradient(::Function, ::Array{Float64,1}) at /local/home/fredrikb/.julia/packages/Tracker/6wcYJ/src/back.jl:164",
      " [4] top-level scope at In[13]:1"
     ]
    }
   ],
   "source": [
    "Tracker.gradient(f2, x);"
   ]
  },
  {
   "cell_type": "markdown",
   "metadata": {
    "slideshow": {
     "slide_type": "fragment"
    }
   },
   "source": [
    "This didn't work either, since `Tracker` calls the function with an argument of type `TrackedArray`."
   ]
  },
  {
   "cell_type": "code",
   "execution_count": 14,
   "metadata": {
    "slideshow": {
     "slide_type": "subslide"
    }
   },
   "outputs": [
    {
     "ename": "MethodError",
     "evalue": "MethodError: no method matching f2(::Array{ForwardDiff.Dual{ForwardDiff.Tag{typeof(f2),Float64},Float64,3},1})\nClosest candidates are:\n  f2(!Matched::Array{Float64,1}) at In[11]:2",
     "output_type": "error",
     "traceback": [
      "MethodError: no method matching f2(::Array{ForwardDiff.Dual{ForwardDiff.Tag{typeof(f2),Float64},Float64,3},1})\nClosest candidates are:\n  f2(!Matched::Array{Float64,1}) at In[11]:2",
      "",
      "Stacktrace:",
      " [1] vector_mode_dual_eval(::typeof(f2), ::Array{Float64,1}, ::ForwardDiff.GradientConfig{ForwardDiff.Tag{typeof(f2),Float64},Float64,3,Array{ForwardDiff.Dual{ForwardDiff.Tag{typeof(f2),Float64},Float64,3},1}}) at /local/home/fredrikb/.julia/packages/ForwardDiff/N0wMF/src/apiutils.jl:37",
      " [2] vector_mode_gradient(::typeof(f2), ::Array{Float64,1}, ::ForwardDiff.GradientConfig{ForwardDiff.Tag{typeof(f2),Float64},Float64,3,Array{ForwardDiff.Dual{ForwardDiff.Tag{typeof(f2),Float64},Float64,3},1}}) at /local/home/fredrikb/.julia/packages/ForwardDiff/N0wMF/src/gradient.jl:97",
      " [3] gradient(::Function, ::Array{Float64,1}, ::ForwardDiff.GradientConfig{ForwardDiff.Tag{typeof(f2),Float64},Float64,3,Array{ForwardDiff.Dual{ForwardDiff.Tag{typeof(f2),Float64},Float64,3},1}}, ::Val{true}) at /local/home/fredrikb/.julia/packages/ForwardDiff/N0wMF/src/gradient.jl:17",
      " [4] gradient(::Function, ::Array{Float64,1}, ::ForwardDiff.GradientConfig{ForwardDiff.Tag{typeof(f2),Float64},Float64,3,Array{ForwardDiff.Dual{ForwardDiff.Tag{typeof(f2),Float64},Float64,3},1}}) at /local/home/fredrikb/.julia/packages/ForwardDiff/N0wMF/src/gradient.jl:15 (repeats 2 times)",
      " [5] top-level scope at In[14]:2"
     ]
    }
   ],
   "source": [
    "f3(x::Vector) = sum(sin, x) + prod(tan, x) * sum(sqrt, x);\n",
    "ForwardDiff.gradient(f2, x)"
   ]
  },
  {
   "cell_type": "code",
   "execution_count": 15,
   "metadata": {
    "slideshow": {
     "slide_type": "fragment"
    }
   },
   "outputs": [
    {
     "ename": "MethodError",
     "evalue": "MethodError: no method matching f3(::TrackedArray{…,Array{Float64,1}})\nClosest candidates are:\n  f3(!Matched::Array{T,1} where T) at In[14]:1",
     "output_type": "error",
     "traceback": [
      "MethodError: no method matching f3(::TrackedArray{…,Array{Float64,1}})\nClosest candidates are:\n  f3(!Matched::Array{T,1} where T) at In[14]:1",
      "",
      "Stacktrace:",
      " [1] gradient_(::Function, ::Array{Float64,1}) at /local/home/fredrikb/.julia/packages/Tracker/6wcYJ/src/back.jl:90",
      " [2] #gradient#24 at /local/home/fredrikb/.julia/packages/Tracker/6wcYJ/src/back.jl:164 [inlined]",
      " [3] gradient(::Function, ::Array{Float64,1}) at /local/home/fredrikb/.julia/packages/Tracker/6wcYJ/src/back.jl:164",
      " [4] top-level scope at In[15]:1"
     ]
    }
   ],
   "source": [
    "Tracker.gradient(f3, x);"
   ]
  }
 ],
 "metadata": {
  "@webio": {
   "lastCommId": null,
   "lastKernelId": null
  },
  "celltoolbar": "Slideshow",
  "kernelspec": {
   "display_name": "Julia 1.1.0",
   "language": "julia",
   "name": "julia-1.1"
  },
  "language_info": {
   "file_extension": ".jl",
   "mimetype": "application/julia",
   "name": "julia",
   "version": "1.1.0"
  }
 },
 "nbformat": 4,
 "nbformat_minor": 2
}
