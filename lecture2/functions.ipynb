{
 "cells": [
  {
   "cell_type": "markdown",
   "metadata": {},
   "source": [
    "# Functions in Julia: A quick intoduction\n",
    "### For more details: https://docs.julialang.org/en/v1/manual/functions/\n",
    "A function can be defined in two standard ways"
   ]
  },
  {
   "cell_type": "code",
   "execution_count": null,
   "metadata": {},
   "outputs": [],
   "source": [
    "function f(x,y)\n",
    "    x + y\n",
    "end\n",
    "\n",
    "f(x,y) = x + y"
   ]
  },
  {
   "cell_type": "code",
   "execution_count": null,
   "metadata": {},
   "outputs": [],
   "source": [
    "f(1,2)"
   ]
  },
  {
   "cell_type": "markdown",
   "metadata": {},
   "source": [
    "Or as anonymous functions"
   ]
  },
  {
   "cell_type": "code",
   "execution_count": null,
   "metadata": {},
   "outputs": [],
   "source": [
    "(x,y) -> x + y"
   ]
  },
  {
   "cell_type": "code",
   "execution_count": null,
   "metadata": {},
   "outputs": [],
   "source": [
    "((x,y) -> x + y)(1,2)"
   ]
  },
  {
   "cell_type": "markdown",
   "metadata": {},
   "source": [
    "### Optional and Keyword Arguments"
   ]
  },
  {
   "cell_type": "code",
   "execution_count": null,
   "metadata": {},
   "outputs": [],
   "source": [
    "opt1(x, y=2, z=2y) = x*y*z\n",
    "@show opt1(1)\n",
    "@show opt1(1, 2)\n",
    "@show opt1(1, 2, 4);"
   ]
  },
  {
   "cell_type": "code",
   "execution_count": null,
   "metadata": {},
   "outputs": [],
   "source": [
    "function arraystring(;a=[3,2,1], space=' ', delim=',', brackets=('[',']'))\n",
    "    s = \"\"\n",
    "    s *= brackets[1]\n",
    "    for i in 1:length(a)\n",
    "        # For nicer printing: copy this into the loop:\n",
    "    post = (i == length(a) ? \"\" : delim*space)\n",
    "        s *= string(a[i])*post\n",
    "    end\n",
    "    s *= brackets[2]\n",
    "    println(s)\n",
    "end\n",
    "\n",
    "a = 1:5\n",
    "arraystring()\n",
    "arraystring(space=\"    \")"
   ]
  },
  {
   "cell_type": "code",
   "execution_count": null,
   "metadata": {},
   "outputs": [],
   "source": []
  },
  {
   "cell_type": "code",
   "execution_count": null,
   "metadata": {},
   "outputs": [],
   "source": [
    "arraystring(a)\n",
    "arraystring(a, space=\"    \")\n",
    "arraystring(a, delim=';', brackets=( '(', ')' ))"
   ]
  },
  {
   "cell_type": "code",
   "execution_count": null,
   "metadata": {},
   "outputs": [],
   "source": []
  },
  {
   "cell_type": "markdown",
   "metadata": {},
   "source": [
    "#### Arguments are passed by reference"
   ]
  },
  {
   "cell_type": "code",
   "execution_count": null,
   "metadata": {},
   "outputs": [],
   "source": [
    "# Change A at index inds to x\n",
    "# Convention to add ! for functions that change the inputs\n",
    "function setvalue!(A, x, inds...)\n",
    "    A[inds...] = x\n",
    "end\n",
    "v = randn(2,2)\n",
    "setvalue!(v, 1.0, 1, 2)\n",
    "v"
   ]
  },
  {
   "cell_type": "markdown",
   "metadata": {},
   "source": [
    "#### This looks a lot like A[inds...] = x\n",
    "Some functions have special names:\n",
    "\n",
    "\n",
    "| Syntax      | Name         |\n",
    "|-------------|--------------|\n",
    "| `[A B C D]` | hcat         |\n",
    "| `[A;B;C;D]` | vcat         |\n",
    "| `[A B;C D]` | hvcat        |\n",
    "| `A'`        | adjoint      |\n",
    "| `A[i]`      | getindex     |\n",
    "| `A[i] = x`  | setindex!    |\n",
    "| `A.p`       | getproperty  |\n",
    "| `A.p = x`   | setproperty! |\n"
   ]
  },
  {
   "cell_type": "markdown",
   "metadata": {},
   "source": [
    "### Functions are \"first class citizens\"\n",
    "They can be passed around as any other variable"
   ]
  },
  {
   "cell_type": "code",
   "execution_count": null,
   "metadata": {},
   "outputs": [],
   "source": [
    "funsquare(fun, x, y) = fun(x, y)^2\n",
    "\n",
    "funsquare(f, 1, 2)"
   ]
  },
  {
   "cell_type": "markdown",
   "metadata": {},
   "source": [
    "Let's define a function `funroot` that takes a function `f` and an arbitrary number or arguments `args...`"
   ]
  },
  {
   "cell_type": "code",
   "execution_count": null,
   "metadata": {},
   "outputs": [],
   "source": [
    "funroot(fun, args...) = sqrt(fun(args...))\n",
    "\n",
    "@show funroot(sin, 2);\n",
    "@show sqrt(sin(2))"
   ]
  },
  {
   "cell_type": "markdown",
   "metadata": {},
   "source": [
    "#### We can keep going..."
   ]
  },
  {
   "cell_type": "code",
   "execution_count": null,
   "metadata": {},
   "outputs": [],
   "source": [
    "@show funsquare(f, 2, 3)\n",
    "@show funroot(funsquare, f, 2, 3);"
   ]
  },
  {
   "cell_type": "markdown",
   "metadata": {},
   "source": [
    "## Taking functions as arguments is built into many standard functions"
   ]
  },
  {
   "cell_type": "code",
   "execution_count": null,
   "metadata": {},
   "outputs": [],
   "source": [
    "using Statistics\n",
    "a = randn(5) + im*randn(5)\n",
    "\n",
    "@time mean(real, a)"
   ]
  },
  {
   "cell_type": "code",
   "execution_count": null,
   "metadata": {},
   "outputs": [],
   "source": [
    "filter(v -> real(v) > 0, a)"
   ]
  },
  {
   "cell_type": "code",
   "execution_count": null,
   "metadata": {},
   "outputs": [],
   "source": [
    "lt(x,y) = real(x)*imag(x) < real(y)*imag(y)\n",
    "b = sort(a, lt=lt)\n",
    "real(b) .* imag(b)"
   ]
  },
  {
   "cell_type": "code",
   "execution_count": null,
   "metadata": {},
   "outputs": [],
   "source": [
    "map(round, [1.2,3.5,1.7])"
   ]
  },
  {
   "cell_type": "markdown",
   "metadata": {},
   "source": [
    "## Broadcasting: A fancy version of \"elementwise\""
   ]
  },
  {
   "cell_type": "code",
   "execution_count": null,
   "metadata": {},
   "outputs": [],
   "source": [
    "a = randn(1000)\n",
    "b = randn(1000);"
   ]
  },
  {
   "cell_type": "markdown",
   "metadata": {},
   "source": [
    "We are used to \"elementwise\" operators from \"languages\" such as MATLAB\n",
    "\n",
    "Like: `.+, .*, ./`"
   ]
  },
  {
   "cell_type": "code",
   "execution_count": null,
   "metadata": {},
   "outputs": [],
   "source": [
    "a .^ 2\n",
    "a .+ 3\n",
    "sum(a .+ 3), sum(a) + 3*length(a)"
   ]
  },
  {
   "cell_type": "markdown",
   "metadata": {},
   "source": [
    "And in those languages, we expect simple functions to be able to automatically work on vectors, for example:\n",
    "`sin, +, *, exp`\n",
    "#### But in Julia, they are not defined for vector-scalar operations"
   ]
  },
  {
   "cell_type": "code",
   "execution_count": null,
   "metadata": {},
   "outputs": [],
   "source": [
    "sin(a)"
   ]
  },
  {
   "cell_type": "code",
   "execution_count": null,
   "metadata": {},
   "outputs": [],
   "source": [
    "a + 3"
   ]
  },
  {
   "cell_type": "markdown",
   "metadata": {},
   "source": [
    "#### Instead, Julia uses explicit broadcasting "
   ]
  },
  {
   "cell_type": "code",
   "execution_count": null,
   "metadata": {},
   "outputs": [],
   "source": [
    "methods(+) # 163 methods, more on this in \"Multiple dispatch\" section"
   ]
  },
  {
   "cell_type": "markdown",
   "metadata": {},
   "source": [
    "So are there methods for `.+` too?"
   ]
  },
  {
   "cell_type": "code",
   "execution_count": null,
   "metadata": {},
   "outputs": [],
   "source": [
    "methods(.+)"
   ]
  },
  {
   "cell_type": "markdown",
   "metadata": {},
   "source": [
    "#### The dot `.` is part of the syntax, and can be applied to any function!"
   ]
  },
  {
   "cell_type": "code",
   "execution_count": null,
   "metadata": {},
   "outputs": [],
   "source": [
    "sin.(a)\n",
    "sum(f.(a,a)), 2sum(a)"
   ]
  },
  {
   "cell_type": "markdown",
   "metadata": {},
   "source": [
    "#### And, when applied multiple times, the loops are automatically, and guaranteed to be fused!"
   ]
  },
  {
   "cell_type": "code",
   "execution_count": null,
   "metadata": {},
   "outputs": [],
   "source": [
    "fuse1(a,b) = sin.(cos.(2 .*(a .+ b)))"
   ]
  },
  {
   "cell_type": "code",
   "execution_count": null,
   "metadata": {},
   "outputs": [],
   "source": [
    "fuse1(a, b); # Run twice to not count compilation\n",
    "@time fuse1(a,b)\n",
    "sizeof(a)"
   ]
  },
  {
   "cell_type": "markdown",
   "metadata": {},
   "source": [
    "#### Rougly equivalent to"
   ]
  },
  {
   "cell_type": "code",
   "execution_count": null,
   "metadata": {},
   "outputs": [],
   "source": [
    "function fuse2(a,b)\n",
    "    y = similar(a)\n",
    "    for i = 1:length(a)\n",
    "        y[i] = sin(cos(2*(a[i] + b[i])))\n",
    "    end\n",
    "    return y\n",
    "end"
   ]
  },
  {
   "cell_type": "code",
   "execution_count": null,
   "metadata": {},
   "outputs": [],
   "source": [
    "fuse2(a,b)\n",
    "@time fuse2(a,b);"
   ]
  }
 ],
 "metadata": {
  "kernelspec": {
   "display_name": "Julia 1.1.0",
   "language": "julia",
   "name": "julia-1.1"
  },
  "language_info": {
   "file_extension": ".jl",
   "mimetype": "application/julia",
   "name": "julia",
   "version": "1.1.0"
  }
 },
 "nbformat": 4,
 "nbformat_minor": 2
}
